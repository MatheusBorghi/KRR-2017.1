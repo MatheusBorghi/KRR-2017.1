{
 "cells": [
  {
   "cell_type": "markdown",
   "metadata": {
    "deletable": true,
    "editable": true
   },
   "source": [
    "# krr\n",
    "\n",
    "## cap. 3\n",
    "\n",
    "### exercise 4"
   ]
  },
  {
   "cell_type": "markdown",
   "metadata": {
    "deletable": true,
    "editable": true
   },
   "source": [
    "inhabitants(x) = {henri, pierre}\n",
    "\n",
    "questions(q) = {\n",
    "    \n",
    "    gauche: which asks if the traveler should take the left branch of the fork to get to Chicoutimi,\n",
    "\n",
    "    dit_oui(x, q): would x say oui to the question q?, \n",
    "\n",
    "    dit_non(x,q): would x say non to the question q?\n",
    "}\n",
    "\n",
    "\n",
    "predicates = {\n",
    "\n",
    "    Truth_teller(x): holds when inhabitant x is a truth teller,\n",
    "    \n",
    "    Answer_yes(x, q):holds when inhabitant x will answer yes to French question q,\n",
    "    \n",
    "    True(q): which holds when the correct answer to the question q is yes,\n",
    "    \n",
    "    Go-left: which holds if the direction to get to Chicoutimi is to go left.\n",
    "}"
   ]
  },
  {
   "cell_type": "markdown",
   "metadata": {
    "deletable": true,
    "editable": true
   },
   "source": [
    "### a) defining the KB"
   ]
  },
  {
   "cell_type": "markdown",
   "metadata": {
    "deletable": true,
    "editable": true
   },
   "source": [
    "**A1**: $ (Truth\\_teller(henri) \\wedge \\neg Truth\\_teller(pierre)) \\vee ( \\neg Truth\\_teller(henri) \\wedge Truth\\_teller(pierre))$"
   ]
  },
  {
   "cell_type": "markdown",
   "metadata": {
    "deletable": true,
    "editable": true
   },
   "source": [
    "**A2**: $\\forall x. \\forall q. Answer\\_yes(x,q) \\equiv [Truth\\_teller(x) \\wedge True(q)] \\vee [\\neg Truth\\_teller(x) \\wedge \\neg True(q)]$"
   ]
  },
  {
   "cell_type": "markdown",
   "metadata": {
    "deletable": true,
    "editable": true
   },
   "source": [
    "**A3**: $\\forall x. Answer\\_yes(x, gauche) \\wedge True(gauche) \\equiv Go\\_left $"
   ]
  },
  {
   "cell_type": "markdown",
   "metadata": {
    "deletable": true,
    "editable": true
   },
   "source": [
    "**A4**: $\\forall x. \\forall q. True(dit\\_oui(x,q)) \\equiv Answer\\_yes(x,q)$"
   ]
  },
  {
   "cell_type": "markdown",
   "metadata": {
    "deletable": true,
    "editable": true
   },
   "source": [
    "**A5**: $ \\forall x. \\forall q. True(dit\\_non(x,q)) \\equiv \\neg Answer\\_yes(x, q)$"
   ]
  },
  {
   "cell_type": "markdown",
   "metadata": {
    "deletable": true,
    "editable": true
   },
   "source": [
    "### b) prove puzzle's solution: find _t_ such that\n",
    "\n",
    "$$ KB \\models [Answer\\_yes(henri, t) \\equiv Go\\_left $$"
   ]
  },
  {
   "cell_type": "markdown",
   "metadata": {
    "deletable": true,
    "editable": true
   },
   "source": [
    "$$ ~t = dit\\_non(pierre, gauche) $$"
   ]
  },
  {
   "cell_type": "markdown",
   "metadata": {
    "deletable": true,
    "editable": true
   },
   "source": [
    "#### exhaustive proof:"
   ]
  },
  {
   "cell_type": "markdown",
   "metadata": {
    "deletable": true,
    "editable": true
   },
   "source": [
    "* suppose $ Go\\_left \\wedge Truth\\_teller(pierre) $ holds. then,\n",
    "\n",
    "    - $ Go\\_left \\wedge Truth\\_teller(pierre) \\implies Answer\\_yes(pierre, gauche) $\n",
    "    \n",
    "    - $ Truth\\_teller(pierre) \\implies \\neg Truth\\_teller(henri) $, from **A1**.\n",
    "    \n",
    "    - $ \\neg Truth\\_teller(henri) \\wedge Answer\\_yes(pierre, gauche) \\implies Answer\\_yes(henri, dit\\_non(pierre, gauche))) \\equiv Answer\\_yes(henri, t)$\n",
    "    \n",
    "    so $ Go\\_left \\wedge Truth\\_teller(pierre) \\implies Answer\\_yes(henri, t) $."
   ]
  },
  {
   "cell_type": "markdown",
   "metadata": {
    "deletable": true,
    "editable": true
   },
   "source": [
    "* suppose $ \\neg Go\\_left \\wedge Truth\\_teller(pierre) $ holds. then,\n",
    "\n",
    "    - $ \\neg Go\\_left \\wedge Truth\\_teller(pierre) \\implies \\neg Answer\\_yes(pierre, gauche) $\n",
    "    \n",
    "    - $ Truth\\_teller(pierre) \\implies \\neg Truth\\_teller(henri) $, from **A1**.\n",
    "    \n",
    "    - $ \\neg Truth\\_teller(henri) \\wedge \\neg Answer\\_yes(pierre, gauche) \\implies \\neg Answer\\_yes(henri, dit\\_non(pierre, gauche))) \\equiv \\neg Answer\\_yes(henri, t)$\n",
    "    \n",
    "    so $ \\neg Go\\_left \\wedge Truth\\_teller(pierre) \\implies \\neg Answer\\_yes(henri, t) $."
   ]
  },
  {
   "cell_type": "markdown",
   "metadata": {
    "deletable": true,
    "editable": true
   },
   "source": [
    "* suppose $ Go\\_left \\wedge Truth\\_teller(henri) $ holds. then,\n",
    "\n",
    "    - $ Truth\\_teller(henri) \\implies \\neg Truth\\_teller(pierre) $, from **A1**.\n",
    "    \n",
    "    - $ Go\\_left \\wedge \\neg Truth\\_teller(pierre) \\implies \\neg Answer\\_yes(pierre, gauche) $\n",
    "    \n",
    "    - $ Truth\\_teller(henri) \\wedge \\neg Answer\\_yes(pierre, gauche) \\implies Answer\\_yes(henri, dit\\_non(pierre, gauche)) \\equiv Answer\\_yes(henri, t)$\n",
    "    \n",
    "    so $ Go\\_left \\wedge Truth\\_teller(henri) \\implies Answer\\_yes(henri, t) $."
   ]
  },
  {
   "cell_type": "markdown",
   "metadata": {
    "deletable": true,
    "editable": true
   },
   "source": [
    "* suppose $ \\neg Go\\_left \\wedge Truth\\_teller(henri) $ holds. then,\n",
    "\n",
    "    - $ Truth\\_teller(henri) \\implies \\neg Truth\\_teller(pierre) $, from **A1**.\n",
    "    \n",
    "    - $ \\neg Go\\_left \\wedge \\neg Truth\\_teller(pierre) \\implies Answer\\_yes(pierre, gauche) $\n",
    "    \n",
    "    - $ Truth\\_teller(henri) \\wedge Answer\\_yes(pierre, gauche) \\implies \\neg Answer\\_yes(henri, dit\\_non(pierre, gauche)) \\equiv \\neg Answer\\_yes(henri, t)$\n",
    "    \n",
    "    so $ \\neg Go\\_left \\wedge Truth\\_teller(henri) \\implies \\neg Answer\\_yes(henri, t) $."
   ]
  },
  {
   "cell_type": "markdown",
   "metadata": {
    "deletable": true,
    "editable": true
   },
   "source": [
    "therefore, $$ KB \\models [Answer\\_yes(henri, t) \\equiv Go\\_left \\ \\square $$"
   ]
  },
  {
   "cell_type": "markdown",
   "metadata": {
    "deletable": true,
    "editable": true
   },
   "source": [
    "### c) show that this KB does not entail which direction to go"
   ]
  },
  {
   "cell_type": "markdown",
   "metadata": {
    "deletable": true,
    "editable": true
   },
   "source": [
    "to show that the KB does not entail which direction, one only needs to show two interpretations $\\Im_1$ and $\\Im_2$ which both satisfy the KB below, but whose values of $Go\\_left$ differ.\n",
    "\n",
    "**A1**: $ (Truth\\_teller(henri) \\wedge \\neg Truth\\_teller(pierre)) \\vee ( \\neg Truth\\_teller(henri) \\wedge Truth\\_teller(pierre))$\n",
    "\n",
    "**A2**: $\\forall x. \\forall q. Answer\\_yes(x,q) \\equiv [Truth\\_teller(x) \\wedge True(q)] \\vee [\\neg Truth\\_teller(x) \\wedge \\neg True(q)]$\n",
    "\n",
    "**A3**: $\\forall x. Answer\\_yes(x, gauche) \\wedge True(gauche) \\equiv Go\\_left $\n",
    "\n",
    "**A4**: $\\forall x. \\forall q. True(dit\\_oui(x,q)) \\equiv Answer\\_yes(x,q)$\n",
    "\n",
    "**A5**: $ \\forall x. \\forall q. True(dit\\_non(x,q)) \\equiv \\neg Answer\\_yes(x, q)$"
   ]
  },
  {
   "cell_type": "markdown",
   "metadata": {
    "deletable": true,
    "editable": true
   },
   "source": [
    "let $\\Im_1$ be an interpretation that satisfies the KB and:\n",
    "\n",
    "* $\\Im_1 \\models Truth\\_teller(henri)$\n",
    "\n",
    "    - $ Truth\\_teller(henri) \\implies $ **A1**\n",
    "\n",
    "* $\\Im_1 \\models Go\\_left$\n",
    "\n",
    "    - $ Go\\_left \\equiv \\forall x. Answer\\_yes(x, gauche) \\wedge True(gauche)$, which satisfies **A3** if the given interpretation is used.\n",
    "\n",
    "    the same holds for **A2**, **A4-5**.\n",
    "    \n",
    "therefore $\\Im_1$ satisfies the KB."
   ]
  },
  {
   "cell_type": "markdown",
   "metadata": {
    "deletable": true,
    "editable": true
   },
   "source": [
    "let $\\Im_2$ be an interpretation that satisfies the KB and:\n",
    "\n",
    "* $\\Im_2 \\models Truth\\_teller(pierre)$\n",
    "\n",
    "    - $ Truth\\_teller(pierre) \\implies $ **A1**\n",
    "\n",
    "* $\\Im_2 \\models \\neg Go\\_left $, which satisfies **A3**, because $Go\\_left \\implies \\forall x. Answer\\_yes(x, gauche) \\wedge True(gauche)$ if Go_left is false, using the given interpretation.\n",
    "\n",
    "    the same holds for **A2**, **A4-5**.\n",
    "    \n",
    "therefore $\\Im_2$ satisfies the KB."
   ]
  },
  {
   "cell_type": "markdown",
   "metadata": {},
   "source": [
    "as both $\\Im_1$ and $\\Im_2$ satisfy the KB and in only one of them $Go\\_left$ is true, it follows that the KB does not entail which direction to go."
   ]
  }
 ],
 "metadata": {
  "kernelspec": {
   "display_name": "Python 3",
   "language": "python",
   "name": "python3"
  },
  "language_info": {
   "codemirror_mode": {
    "name": "ipython",
    "version": 3
   },
   "file_extension": ".py",
   "mimetype": "text/x-python",
   "name": "python",
   "nbconvert_exporter": "python",
   "pygments_lexer": "ipython3",
   "version": "3.6.0"
  }
 },
 "nbformat": 4,
 "nbformat_minor": 2
}
